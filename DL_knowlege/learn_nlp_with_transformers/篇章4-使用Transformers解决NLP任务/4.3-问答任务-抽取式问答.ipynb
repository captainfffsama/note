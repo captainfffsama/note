{
  "cells": [
    {
      "cell_type": "markdown",
      "source": [
        "本文涉及的jupter notebook在[篇章4代码库中](https://github.com/datawhalechina/learn-nlp-with-transformers/tree/main/docs/%E7%AF%87%E7%AB%A04-%E4%BD%BF%E7%94%A8Transformers%E8%A7%A3%E5%86%B3NLP%E4%BB%BB%E5%8A%A1)。\r\n",
        "\r\n",
        "建议直接使用google colab notebook打开本教程，可以快速下载相关数据集和模型。\r\n",
        "如果您正在google的colab中打开这个notebook，您可能需要安装Transformers和🤗Datasets库。将以下命令取消注释即可安装。"
      ],
      "metadata": {
        "id": "X4cRE8IbIrIV"
      }
    },
    {
      "cell_type": "code",
      "execution_count": 1,
      "source": [
        "# !pip install datasets transformers"
      ],
      "outputs": [],
      "metadata": {
        "id": "MOsHUjgdIrIW"
      }
    },
    {
      "cell_type": "markdown",
      "source": [
        "# 在机器问答任务上微调transformer模型"
      ],
      "metadata": {
        "id": "rEJBSTyZIrIb"
      }
    },
    {
      "cell_type": "markdown",
      "source": [
        "在这个notebook中，我们将学习到如何微调[🤗 Transformers](https://github.com/huggingface/transformers)的transformer模型来解决机器问答任务。本文主要解决的是抽取式问答任务：给定一个问题和一段文本，从这段文本中找出能回答该问题的文本片段（span）。通过使用`Trainer` API和dataset包，我们将轻松加载数据集，然后微调transformers。下图给出了一个简单的例子\n",
        "![Widget inference representing the QA task](images/question_answering.png)\n",
        "\n",
        "**Note:** 注意：本文的问答任务是从文本中抽取答案，并不是直接生成答案！"
      ],
      "metadata": {
        "id": "nm8eowt6YBU6"
      }
    },
    {
      "cell_type": "markdown",
      "source": [
        "本notebook设计的例子可以用来解决任何和SQUAD 1和SQUAD 2类似的抽取式问答任务，并且可以使用[模型库Model Hub](https://huggingface.co/models)的任何模型checkpoint，只要这些模型包含了一个token classification head 和 一个fast tokenizer。关于模型和fast tokenizer的对应关系见：[这个表格](https://huggingface.co/transformers/index.html#bigtable)。\n",
        "\n",
        "\n",
        "如果您的数据集和本notebook有所不同，英国只需要微调的调整就可以直接使用本notebook。当然，根据您的硬件设备（电脑内存、显卡大小），您需要合理的调整batch size大小，避免out-of-memory的错误。\n",
        "Set those three parameters, then the rest of the notebook should run smoothly:"
      ],
      "metadata": {
        "id": "4RRkXuteIrIh"
      }
    },
    {
      "cell_type": "code",
      "execution_count": null,
      "source": [
        "# squad_v2等于True或者False分别代表使用SQUAD v1 或者 SQUAD v2。\r\n",
        "# 如果您使用的是其他数据集，那么True代表的是：模型可以回答“不可回答”问题，也就是部分问题不给出答案，而False则代表所有问题必须回答。\r\n",
        "squad_v2 = False\r\n",
        "model_checkpoint = \"distilbert-base-uncased\"\r\n",
        "batch_size = 16"
      ],
      "outputs": [],
      "metadata": {
        "id": "zVvslsfMIrIh"
      }
    },
    {
      "cell_type": "markdown",
      "source": [
        "## 加载数据集"
      ],
      "metadata": {
        "id": "whPRbBNbIrIl"
      }
    },
    {
      "cell_type": "markdown",
      "source": [
        "我们将会使用[🤗 Datasets](https://github.com/huggingface/datasets) 库来下载数据，并且得到我们需要的评测指标（和benchmark基准进行比较）。\r\n",
        "\r\n",
        "使用函数`load_dataset`和`load_metric`即可简单完成这两项任务。"
      ],
      "metadata": {
        "id": "W7QYTpxXIrIl"
      }
    },
    {
      "cell_type": "code",
      "execution_count": null,
      "source": [
        "from datasets import load_dataset, load_metric"
      ],
      "outputs": [],
      "metadata": {
        "id": "IreSlFmlIrIm"
      }
    },
    {
      "cell_type": "markdown",
      "source": [
        "举个例子，我们将会在这个notebook中使用[SQUAD 数据集](https://rajpurkar.github.io/SQuAD-explorer/)。同样，本notebook也适配所有dataset库中提供的所有问答数据集。\r\n",
        "\r\n",
        "如果您使用的是自己的数据集（json或者csv格式），请查看[Datasets 文档](https://huggingface.co/docs/datasets/loading_datasets.html#from-local-files)学习如何加载自定义的数据集。可能需要调整每列使用的名字。\r\n"
      ],
      "metadata": {
        "id": "CKx2zKs5IrIq"
      }
    },
    {
      "cell_type": "code",
      "execution_count": null,
      "source": [
        "# 下载数据（确保有网络）\r\n",
        "datasets = load_dataset(\"squad_v2\" if squad_v2 else \"squad\")"
      ],
      "outputs": [],
      "metadata": {
        "id": "s_AY1ATSIrIq"
      }
    },
    {
      "cell_type": "markdown",
      "source": [
        "除此之外，你也可以从我们提供的[链接](https://gas.graviti.cn/dataset/datawhale/SQuAD)下载数据并解压，将解压后的2个json文件复制到到`docs/篇章4-使用Transformers解决NLP任务/datasets/squad`目录下，然后用下面的代码进行加载。"
      ],
      "metadata": {}
    },
    {
      "cell_type": "code",
      "execution_count": null,
      "source": [
        "import os\r\n",
        "\r\n",
        "data_path = './dataset/squad/'\r\n",
        "path = os.path.join(data_path, 'squad.py')\r\n",
        "cache_dir = os.path.join(data_path, 'cache')\r\n",
        "data_files = {\"train\": os.path.join(data_path, \"train-v1.1.json\"), \"validation\": os.path.join(data_path, \"dev-v1.1.json\")}\r\n",
        "datasets = load_dataset(path, data_files=data_files, cache_dir=cache_dir)"
      ],
      "outputs": [],
      "metadata": {}
    },
    {
      "cell_type": "markdown",
      "source": [
        "这个`datasets`对象是[`DatasetDict`](https://huggingface.co/docs/datasets/package_reference/main_classes.html#datasetdict)结构，训练、验证、测试分别对应这dict的一个key。"
      ],
      "metadata": {
        "id": "RzfPtOMoIrIu"
      }
    },
    {
      "cell_type": "code",
      "execution_count": null,
      "source": [
        "# 查看以下datasets及其属性\r\n",
        "datasets"
      ],
      "outputs": [
        {
          "output_type": "execute_result",
          "data": {
            "text/plain": [
              "DatasetDict({\n",
              "    train: Dataset({\n",
              "        features: ['id', 'title', 'context', 'question', 'answers'],\n",
              "        num_rows: 87599\n",
              "    })\n",
              "    validation: Dataset({\n",
              "        features: ['id', 'title', 'context', 'question', 'answers'],\n",
              "        num_rows: 10570\n",
              "    })\n",
              "})"
            ]
          },
          "metadata": {
            "tags": []
          },
          "execution_count": 9
        }
      ],
      "metadata": {
        "id": "GWiVUF0jIrIv",
        "outputId": "35e3ea43-f397-4a54-c90c-f2cf8d36873e"
      }
    },
    {
      "cell_type": "markdown",
      "source": [
        "无论是训练集、验证集还是测试集，对于每一个问答数据样本都会有“context\", \"question\"和“answers”三个key。\n",
        "\n",
        "我们可以使用一个下标来选择一个样本。"
      ],
      "metadata": {
        "id": "5_Tr9XWDYBVA"
      }
    },
    {
      "cell_type": "code",
      "execution_count": null,
      "source": [
        "datasets[\"train\"][0]\r\n",
        "# answers代表答案\r\n",
        "# context代表文本片段\r\n",
        "# question代表问题"
      ],
      "outputs": [
        {
          "output_type": "execute_result",
          "data": {
            "text/plain": [
              "{'answers': {'answer_start': [515], 'text': ['Saint Bernadette Soubirous']},\n",
              " 'context': 'Architecturally, the school has a Catholic character. Atop the Main Building\\'s gold dome is a golden statue of the Virgin Mary. Immediately in front of the Main Building and facing it, is a copper statue of Christ with arms upraised with the legend \"Venite Ad Me Omnes\". Next to the Main Building is the Basilica of the Sacred Heart. Immediately behind the basilica is the Grotto, a Marian place of prayer and reflection. It is a replica of the grotto at Lourdes, France where the Virgin Mary reputedly appeared to Saint Bernadette Soubirous in 1858. At the end of the main drive (and in a direct line that connects through 3 statues and the Gold Dome), is a simple, modern stone statue of Mary.',\n",
              " 'id': '5733be284776f41900661182',\n",
              " 'question': 'To whom did the Virgin Mary allegedly appear in 1858 in Lourdes France?',\n",
              " 'title': 'University_of_Notre_Dame'}"
            ]
          },
          "metadata": {
            "tags": []
          },
          "execution_count": 12
        }
      ],
      "metadata": {
        "id": "X6HrpprwIrIz",
        "outputId": "d7670bc0-42e4-4c09-8a6a-5c018ded7d95"
      }
    },
    {
      "cell_type": "markdown",
      "source": [
        "注意answers的标注。answers除了给出了文本片段里的答案文本之外，还给出了该answer所在位置（以character开始计算，上面的例子是第515位）。\n",
        "\n",
        "为了能够进一步理解数据长什么样子，下面的函数将从数据集里随机选择几个例子进行展示。"
      ],
      "metadata": {
        "id": "s5GXOp9PYBVA"
      }
    },
    {
      "cell_type": "code",
      "execution_count": null,
      "source": [
        "from datasets import ClassLabel, Sequence\r\n",
        "import random\r\n",
        "import pandas as pd\r\n",
        "from IPython.display import display, HTML\r\n",
        "\r\n",
        "def show_random_elements(dataset, num_examples=10):\r\n",
        "    assert num_examples <= len(dataset), \"Can't pick more elements than there are in the dataset.\"\r\n",
        "    picks = []\r\n",
        "    for _ in range(num_examples):\r\n",
        "        pick = random.randint(0, len(dataset)-1)\r\n",
        "        while pick in picks:\r\n",
        "            pick = random.randint(0, len(dataset)-1)\r\n",
        "        picks.append(pick)\r\n",
        "    \r\n",
        "    df = pd.DataFrame(dataset[picks])\r\n",
        "    for column, typ in dataset.features.items():\r\n",
        "        if isinstance(typ, ClassLabel):\r\n",
        "            df[column] = df[column].transform(lambda i: typ.names[i])\r\n",
        "        elif isinstance(typ, Sequence) and isinstance(typ.feature, ClassLabel):\r\n",
        "            df[column] = df[column].transform(lambda x: [typ.feature.names[i] for i in x])\r\n",
        "    display(HTML(df.to_html()))"
      ],
      "outputs": [],
      "metadata": {
        "id": "i3j8APAoIrI3"
      }
    },
    {
      "cell_type": "code",
      "execution_count": null,
      "source": [
        "show_random_elements(datasets[\"train\"], num_examples=2)"
      ],
      "outputs": [
        {
          "output_type": "display_data",
          "data": {
            "text/plain": [
              "<IPython.core.display.HTML object>"
            ],
            "text/html": [
              "<table border=\"1\" class=\"dataframe\">\n",
              "  <thead>\n",
              "    <tr style=\"text-align: right;\">\n",
              "      <th></th>\n",
              "      <th>answers</th>\n",
              "      <th>context</th>\n",
              "      <th>id</th>\n",
              "      <th>question</th>\n",
              "      <th>title</th>\n",
              "    </tr>\n",
              "  </thead>\n",
              "  <tbody>\n",
              "    <tr>\n",
              "      <th>0</th>\n",
              "      <td>{'answer_start': [185], 'text': ['diesel fuel']}</td>\n",
              "      <td>In Alberta, five bitumen upgraders produce synthetic crude oil and a variety of other products: The Suncor Energy upgrader near Fort McMurray, Alberta produces synthetic crude oil plus diesel fuel; the Syncrude Canada, Canadian Natural Resources, and Nexen upgraders near Fort McMurray produce synthetic crude oil; and the Shell Scotford Upgrader near Edmonton produces synthetic crude oil plus an intermediate feedstock for the nearby Shell Oil Refinery. A sixth upgrader, under construction in 2015 near Redwater, Alberta, will upgrade half of its crude bitumen directly to diesel fuel, with the remainder of the output being sold as feedstock to nearby oil refineries and petrochemical plants.</td>\n",
              "      <td>571b074c9499d21900609be3</td>\n",
              "      <td>Besides crude oil, what does the Suncor Energy plant produce?</td>\n",
              "      <td>Asphalt</td>\n",
              "    </tr>\n",
              "    <tr>\n",
              "      <th>1</th>\n",
              "      <td>{'answer_start': [191], 'text': ['the GIOVE satellites for the Galileo system']}</td>\n",
              "      <td>Compass-M1 is an experimental satellite launched for signal testing and validation and for the frequency filing on 14 April 2007. The role of Compass-M1 for Compass is similar to the role of the GIOVE satellites for the Galileo system. The orbit of Compass-M1 is nearly circular, has an altitude of 21,150 km and an inclination of 55.5 degrees.</td>\n",
              "      <td>56e1161ccd28a01900c6757b</td>\n",
              "      <td>The purpose of the Compass-M1 satellite is similar to the purpose of what other satellite?</td>\n",
              "      <td>BeiDou_Navigation_Satellite_System</td>\n",
              "    </tr>\n",
              "  </tbody>\n",
              "</table>"
            ]
          },
          "metadata": {
            "tags": []
          }
        }
      ],
      "metadata": {
        "id": "SZy5tRB_IrI7",
        "outputId": "ba8f2124-e485-488f-8c0c-254f34f24f13",
        "scrolled": true
      }
    },
    {
      "cell_type": "markdown",
      "source": [
        "## Preprocessing the training data"
      ],
      "metadata": {
        "id": "n9qywopnIrJH"
      }
    },
    {
      "cell_type": "markdown",
      "source": [
        "在将数据喂入模型之前，我们需要对数据进行预处理。预处理的工具叫`Tokenizer`。`Tokenizer`首先对输入进行tokenize，然后将tokens转化为预模型中需要对应的token ID，再转化为模型需要的输入格式。\n",
        "\n",
        "为了达到数据预处理的目的，我们使用`AutoTokenizer.from_pretrained`方法实例化我们的tokenizer，这样可以确保：\n",
        "\n",
        "- 我们得到一个与预训练模型一一对应的tokenizer。\n",
        "- 使用指定的模型checkpoint对应的tokenizer的时候，我们也下载了模型需要的词表库vocabulary，准确来说是tokens vocabulary。\n",
        "\n",
        "这个被下载的tokens vocabulary会被缓存起来，从而再次使用的时候不会重新下载。"
      ],
      "metadata": {
        "id": "YVx71GdAIrJH"
      }
    },
    {
      "cell_type": "code",
      "execution_count": null,
      "source": [
        "from transformers import AutoTokenizer\r\n",
        "    \r\n",
        "tokenizer = AutoTokenizer.from_pretrained(model_checkpoint)"
      ],
      "outputs": [],
      "metadata": {
        "id": "eXNLu_-nIrJI"
      }
    },
    {
      "cell_type": "markdown",
      "source": [
        "以下代码要求tokenizer必须是transformers.PreTrainedTokenizerFast类型，因为我们在预处理的时候需要用到fast tokenizer的一些特殊特性（比如多线程快速tokenizer）。\n",
        "\n",
        "几乎所有模型对应的tokenizer都有对应的fast tokenizer。我们可以在[模型tokenizer对应表](https://huggingface.co/transformers/index.html#bigtable)里查看所有预训练模型对应的tokenizer所拥有的特点。\n"
      ],
      "metadata": {
        "id": "Vl6IidfdIrJK"
      }
    },
    {
      "cell_type": "code",
      "execution_count": null,
      "source": [
        "import transformers\r\n",
        "assert isinstance(tokenizer, transformers.PreTrainedTokenizerFast)"
      ],
      "outputs": [],
      "metadata": {
        "id": "w0UUlLKzYBVD"
      }
    },
    {
      "cell_type": "code",
      "execution_count": null,
      "source": [
        "# 如果我们想要看到tokenizer预处理之后的文本格式，我们仅使用tokenizer的tokenize方法，add special tokens意思是增加预训练模型所要求的特俗token。\r\n",
        "print(\"单个文本tokenize: {}\".format(tokenizer.tokenize(\"What is your name?\"), add_special_tokens=True))\r\n",
        "print(\"2个文本tokenize: {}\".format(tokenizer.tokenize(\"My name is Sylvain.\", add_special_tokens=True)))\r\n",
        "# 预训练模型输入格式要求的输入为token IDs，还需要attetnion mask。可以使用下面的方法得到预训练模型格式所要求的输入。"
      ],
      "outputs": [
        {
          "output_type": "stream",
          "name": "stdout",
          "text": [
            "单个文本tokenize: ['what', 'is', 'your', 'name', '?']\n",
            "2个文本tokenize: ['[CLS]', 'my', 'name', 'is', 'sy', '##lva', '##in', '.', '[SEP]']\n"
          ]
        }
      ],
      "metadata": {
        "id": "UdHO2nryYBVE",
        "outputId": "af9ba744-7aa9-44a8-b0c8-2b60b21bf786"
      }
    },
    {
      "cell_type": "markdown",
      "source": [
        "tokenizer既可以对单个文本进行预处理，也可以对一对文本进行预处理，tokenizer预处理后得到的数据满足预训练模型输入格式"
      ],
      "metadata": {
        "id": "rowT4iCLIrJK"
      }
    },
    {
      "cell_type": "code",
      "execution_count": null,
      "source": [
        "# 对单个文本进行预处理\r\n",
        "tokenizer(\"What is your name?\")"
      ],
      "outputs": [
        {
          "output_type": "execute_result",
          "data": {
            "text/plain": [
              "{'input_ids': [101, 2054, 2003, 2115, 2171, 1029, 102], 'attention_mask': [1, 1, 1, 1, 1, 1, 1]}"
            ]
          },
          "metadata": {
            "tags": []
          },
          "execution_count": 32
        }
      ],
      "metadata": {
        "id": "_E0gsIhoYBVF",
        "outputId": "e810df73-25ff-4fd9-edff-417bbe9679b4"
      }
    },
    {
      "cell_type": "code",
      "execution_count": null,
      "source": [
        "# 对2个文本进行预处理，可以看到tokenizer在开始添加了101 token ID，中间用102token ID区分两段文本，末尾用102结尾。这些规则都是预训练模型是所设计的。\r\n",
        "tokenizer(\"What is your name?\", \"My name is Sylvain.\")"
      ],
      "outputs": [
        {
          "output_type": "execute_result",
          "data": {
            "text/plain": [
              "{'input_ids': [101, 2054, 2003, 2115, 2171, 1029, 102, 2026, 2171, 2003, 25353, 22144, 2378, 1012, 102], 'attention_mask': [1, 1, 1, 1, 1, 1, 1, 1, 1, 1, 1, 1, 1, 1, 1]}"
            ]
          },
          "metadata": {
            "tags": []
          },
          "execution_count": 33
        }
      ],
      "metadata": {
        "id": "a5hBlsrHIrJL",
        "outputId": "acdaa98a-a8cd-4a20-89b8-cc26437bbe90"
      }
    },
    {
      "cell_type": "markdown",
      "source": [
        "上面看到的token IDs也就是input_ids一般来说随着预训练模型名字的不同而有所不同。原因是不同的预训练模型在预训练的时候设定了不同的规则。但只要tokenizer和model的名字一致，那么tokenizer预处理的输入格式就会满足model需求的。关于预处理更多内容参考[这个教程](https://huggingface.co/transformers/preprocessing.html)\n",
        "\n",
        "现在我们还需要思考预训练机器问答模型们是如何处理非常长的文本的。一般来说预训练模型输入有最大长度要求，所以我们通常将超长的输入进行截断。但是，如果我们将问答数据三元组<question, context, answer>中的超长context截断，那么我们可能丢掉答案（因为我们是从context中抽取出一个小片段作为答案）。为了解决这个问题，下面的代码找到一个超过长度的例子，然后向您演示如何进行处理。我们把超长的输入切片为多个较短的输入，每个输入都要满足模型最大长度输入要求。由于答案可能存在与切片的地方，因此我们需要允许相邻切片之间有交集，代码中通过`doc_stride`参数控制。\n",
        "\n",
        "机器问答预训练模型通常将question和context拼接之后作为输入，然后让模型从context里寻找答案。"
      ],
      "metadata": {
        "id": "Q0tivQQwYBVG"
      }
    },
    {
      "cell_type": "code",
      "execution_count": null,
      "source": [
        "max_length = 384 # 输入feature的最大长度，question和context拼接之后\r\n",
        "doc_stride = 128 # 2个切片之间的重合token数量。"
      ],
      "outputs": [],
      "metadata": {
        "id": "qDHb6I5aYBVH"
      }
    },
    {
      "cell_type": "markdown",
      "source": [
        "for循环遍历数据集，寻找一个超长样本，本notebook例子模型所要求的最大输入是384（经常使用的还有512）"
      ],
      "metadata": {
        "id": "OVKI8CGNYBVH"
      }
    },
    {
      "cell_type": "code",
      "execution_count": null,
      "source": [
        "for i, example in enumerate(datasets[\"train\"]):\r\n",
        "    if len(tokenizer(example[\"question\"], example[\"context\"])[\"input_ids\"]) > 384:\r\n",
        "        break\r\n",
        "example = datasets[\"train\"][i]"
      ],
      "outputs": [],
      "metadata": {
        "id": "7Ma0M9v_YBVH"
      }
    },
    {
      "cell_type": "markdown",
      "source": [
        "如果不截断的化，那么输入的长度是396"
      ],
      "metadata": {
        "id": "A84Fzhp9YBVI"
      }
    },
    {
      "cell_type": "code",
      "execution_count": null,
      "source": [
        "len(tokenizer(example[\"question\"], example[\"context\"])[\"input_ids\"])"
      ],
      "outputs": [
        {
          "output_type": "execute_result",
          "data": {
            "text/plain": [
              "396"
            ]
          },
          "metadata": {
            "tags": []
          },
          "execution_count": 14
        }
      ],
      "metadata": {
        "id": "WySoZrRwYBVI",
        "outputId": "53943502-8f19-4a8f-bf98-18fe0cf096a4"
      }
    },
    {
      "cell_type": "markdown",
      "source": [
        "现在如果我们截断成最大长度384，将会丢失超长部分的信息"
      ],
      "metadata": {
        "id": "RaygYboUYBVI"
      }
    },
    {
      "cell_type": "code",
      "execution_count": null,
      "source": [
        "len(tokenizer(example[\"question\"], example[\"context\"], max_length=max_length, truncation=\"only_second\")[\"input_ids\"])"
      ],
      "outputs": [
        {
          "output_type": "execute_result",
          "data": {
            "text/plain": [
              "384"
            ]
          },
          "metadata": {
            "tags": []
          },
          "execution_count": 37
        }
      ],
      "metadata": {
        "id": "MXb6ChXWYBVJ",
        "outputId": "fd940c60-69d9-44fc-d8ea-35c58bf54422"
      }
    },
    {
      "cell_type": "markdown",
      "source": [
        "注意，一般来说，我们只对context进行切片，不会对问题进行切片，由于context是拼接在question后面的，对应着第2个文本，所以使用`only_second`控制.tokenizer使用`doc_stride`控制切片之间的重合长度。"
      ],
      "metadata": {
        "id": "738aDe4aYBVJ"
      }
    },
    {
      "cell_type": "code",
      "execution_count": null,
      "source": [
        "tokenized_example = tokenizer(\r\n",
        "    example[\"question\"],\r\n",
        "    example[\"context\"],\r\n",
        "    max_length=max_length,\r\n",
        "    truncation=\"only_second\",\r\n",
        "    return_overflowing_tokens=True,\r\n",
        "    stride=doc_stride\r\n",
        ")"
      ],
      "outputs": [],
      "metadata": {
        "id": "bLvoOEUIYBVJ"
      }
    },
    {
      "cell_type": "markdown",
      "source": [
        "由于对超长输入进行了切片，我们得到了多个输入，这些输入input_ids对应的长度是"
      ],
      "metadata": {
        "id": "nOA0Y8dGYBVK"
      }
    },
    {
      "cell_type": "code",
      "execution_count": null,
      "source": [
        "[len(x) for x in tokenized_example[\"input_ids\"]]"
      ],
      "outputs": [
        {
          "output_type": "execute_result",
          "data": {
            "text/plain": [
              "[384, 157]"
            ]
          },
          "metadata": {
            "tags": []
          },
          "execution_count": 40
        }
      ],
      "metadata": {
        "id": "PEZwY2IzYBVK",
        "outputId": "d4eb8bd4-81fa-4aa5-aae2-bf90bd7b2bc1"
      }
    },
    {
      "cell_type": "markdown",
      "source": [
        "我们可以将预处理后的token IDs，input_ids还原为文本格式："
      ],
      "metadata": {
        "id": "XuVGMM2BYBVL"
      }
    },
    {
      "cell_type": "code",
      "execution_count": null,
      "source": [
        "for i, x in enumerate(tokenized_example[\"input_ids\"][:2]):\n",
        "    print(\"切片: {}\".format(i))\n",
        "    print(tokenizer.decode(x))"
      ],
      "outputs": [
        {
          "output_type": "stream",
          "name": "stdout",
          "text": [
            "切片: 0\n",
            "[CLS] how many wins does the notre dame men's basketball team have? [SEP] the men's basketball team has over 1, 600 wins, one of only 12 schools who have reached that mark, and have appeared in 28 ncaa tournaments. former player austin carr holds the record for most points scored in a single game of the tournament with 61. although the team has never won the ncaa tournament, they were named by the helms athletic foundation as national champions twice. the team has orchestrated a number of upsets of number one ranked teams, the most notable of which was ending ucla's record 88 - game winning streak in 1974. the team has beaten an additional eight number - one teams, and those nine wins rank second, to ucla's 10, all - time in wins against the top team. the team plays in newly renovated purcell pavilion ( within the edmund p. joyce center ), which reopened for the beginning of the 2009 – 2010 season. the team is coached by mike brey, who, as of the 2014 – 15 season, his fifteenth at notre dame, has achieved a 332 - 165 record. in 2009 they were invited to the nit, where they advanced to the semifinals but were beaten by penn state who went on and beat baylor in the championship. the 2010 – 11 team concluded its regular season ranked number seven in the country, with a record of 25 – 5, brey's fifth straight 20 - win season, and a second - place finish in the big east. during the 2014 - 15 season, the team went 32 - 6 and won the acc conference tournament, later advancing to the elite 8, where the fighting irish lost on a missed buzzer - beater against then undefeated kentucky. led by nba draft picks jerian grant and pat connaughton, the fighting irish beat the eventual national champion duke blue devils twice during the season. the 32 wins were [SEP]\n",
            "切片: 1\n",
            "[CLS] how many wins does the notre dame men's basketball team have? [SEP] championship. the 2010 – 11 team concluded its regular season ranked number seven in the country, with a record of 25 – 5, brey's fifth straight 20 - win season, and a second - place finish in the big east. during the 2014 - 15 season, the team went 32 - 6 and won the acc conference tournament, later advancing to the elite 8, where the fighting irish lost on a missed buzzer - beater against then undefeated kentucky. led by nba draft picks jerian grant and pat connaughton, the fighting irish beat the eventual national champion duke blue devils twice during the season. the 32 wins were the most by the fighting irish team since 1908 - 09. [SEP]\n"
          ]
        }
      ],
      "metadata": {
        "id": "cBs66sJXYBVL",
        "outputId": "dca34307-56e2-45b3-bc21-e6a656c2f8d7"
      }
    },
    {
      "cell_type": "markdown",
      "source": [
        "由于我们对超长文本进行了切片，我们需要重新寻找答案所在位置（相对于每一片context开头的相对位置）。机器问答模型将使用答案的位置（答案的起始位置和结束位置，start和end）作为训练标签（而不是答案的token IDS）。所以切片需要和原始输入有一个对应关系，每个token在切片后context的位置和原始超长context里位置的对应关系。在tokenizer里可以使用`return_offsets_mapping`参数得到这个对应关系的map："
      ],
      "metadata": {
        "id": "F9IYlTYgYBVL"
      }
    },
    {
      "cell_type": "code",
      "execution_count": null,
      "source": [
        "tokenized_example = tokenizer(\n",
        "    example[\"question\"],\n",
        "    example[\"context\"],\n",
        "    max_length=max_length,\n",
        "    truncation=\"only_second\",\n",
        "    return_overflowing_tokens=True,\n",
        "    return_offsets_mapping=True,\n",
        "    stride=doc_stride\n",
        ")\n",
        "# 打印切片前后位置下标的对应关系\n",
        "print(tokenized_example[\"offset_mapping\"][0][:100])"
      ],
      "outputs": [
        {
          "output_type": "stream",
          "name": "stdout",
          "text": [
            "[(0, 0), (0, 3), (4, 8), (9, 13), (14, 18), (19, 22), (23, 28), (29, 33), (34, 37), (37, 38), (38, 39), (40, 50), (51, 55), (56, 60), (60, 61), (0, 0), (0, 3), (4, 7), (7, 8), (8, 9), (10, 20), (21, 25), (26, 29), (30, 34), (35, 36), (36, 37), (37, 40), (41, 45), (45, 46), (47, 50), (51, 53), (54, 58), (59, 61), (62, 69), (70, 73), (74, 78), (79, 86), (87, 91), (92, 96), (96, 97), (98, 101), (102, 106), (107, 115), (116, 118), (119, 121), (122, 126), (127, 138), (138, 139), (140, 146), (147, 153), (154, 160), (161, 165), (166, 171), (172, 175), (176, 182), (183, 186), (187, 191), (192, 198), (199, 205), (206, 208), (209, 210), (211, 217), (218, 222), (223, 225), (226, 229), (230, 240), (241, 245), (246, 248), (248, 249), (250, 258), (259, 262), (263, 267), (268, 271), (272, 277), (278, 281), (282, 285), (286, 290), (291, 301), (301, 302), (303, 307), (308, 312), (313, 318), (319, 321), (322, 325), (326, 330), (330, 331), (332, 340), (341, 351), (352, 354), (355, 363), (364, 373), (374, 379), (379, 380), (381, 384), (385, 389), (390, 393), (394, 406), (407, 408), (409, 415), (416, 418)]\n",
            "[0, 0]\n"
          ]
        }
      ],
      "metadata": {
        "id": "W8PK9eS5YBVM",
        "outputId": "d9bcf780-2654-43dc-afd3-4b023a9e0229"
      }
    },
    {
      "cell_type": "markdown",
      "source": [
        "上面打印的是tokenized_example第0片的前100个tokens在原始context片里的位置。注意第一个token是`[CLS]`设定为(0, 0)是因为这个token不属于qeustion或者answer的一部分。第2个token对应的起始和结束位置是0和3。我们可以根据切片后的token id转化对应的token；然后使用`offset_mapping`参数映射回切片前的token位置，找到原始位置的tokens。由于question拼接在context前面，所以直接从question里根据下标找就行了。"
      ],
      "metadata": {
        "id": "wGeKX0oxYBVM"
      }
    },
    {
      "cell_type": "code",
      "execution_count": null,
      "source": [
        "first_token_id = tokenized_example[\"input_ids\"][0][1]\n",
        "offsets = tokenized_example[\"offset_mapping\"][0][1]\n",
        "print(tokenizer.convert_ids_to_tokens([first_token_id])[0], example[\"question\"][offsets[0]:offsets[1]])"
      ],
      "outputs": [
        {
          "output_type": "stream",
          "name": "stdout",
          "text": [
            "how How\n"
          ]
        }
      ],
      "metadata": {
        "id": "gv9vD3r6YBVN",
        "outputId": "204f24b3-5feb-4106-f9b4-eb52b5e62fee"
      }
    },
    {
      "cell_type": "markdown",
      "source": [
        "因此，我们得到了切片前后的位置对应关系。我们还需要使用`sequence_ids`参数来区分question和context。"
      ],
      "metadata": {
        "id": "4SpfrDNzYBVN"
      }
    },
    {
      "cell_type": "code",
      "execution_count": null,
      "source": [
        "sequence_ids = tokenized_example.sequence_ids()\n",
        "print(sequence_ids)"
      ],
      "outputs": [
        {
          "output_type": "stream",
          "name": "stdout",
          "text": [
            "[None, 0, 0, 0, 0, 0, 0, 0, 0, 0, 0, 0, 0, 0, 0, None, 1, 1, 1, 1, 1, 1, 1, 1, 1, 1, 1, 1, 1, 1, 1, 1, 1, 1, 1, 1, 1, 1, 1, 1, 1, 1, 1, 1, 1, 1, 1, 1, 1, 1, 1, 1, 1, 1, 1, 1, 1, 1, 1, 1, 1, 1, 1, 1, 1, 1, 1, 1, 1, 1, 1, 1, 1, 1, 1, 1, 1, 1, 1, 1, 1, 1, 1, 1, 1, 1, 1, 1, 1, 1, 1, 1, 1, 1, 1, 1, 1, 1, 1, 1, 1, 1, 1, 1, 1, 1, 1, 1, 1, 1, 1, 1, 1, 1, 1, 1, 1, 1, 1, 1, 1, 1, 1, 1, 1, 1, 1, 1, 1, 1, 1, 1, 1, 1, 1, 1, 1, 1, 1, 1, 1, 1, 1, 1, 1, 1, 1, 1, 1, 1, 1, 1, 1, 1, 1, 1, 1, 1, 1, 1, 1, 1, 1, 1, 1, 1, 1, 1, 1, 1, 1, 1, 1, 1, 1, 1, 1, 1, 1, 1, 1, 1, 1, 1, 1, 1, 1, 1, 1, 1, 1, 1, 1, 1, 1, 1, 1, 1, 1, 1, 1, 1, 1, 1, 1, 1, 1, 1, 1, 1, 1, 1, 1, 1, 1, 1, 1, 1, 1, 1, 1, 1, 1, 1, 1, 1, 1, 1, 1, 1, 1, 1, 1, 1, 1, 1, 1, 1, 1, 1, 1, 1, 1, 1, 1, 1, 1, 1, 1, 1, 1, 1, 1, 1, 1, 1, 1, 1, 1, 1, 1, 1, 1, 1, 1, 1, 1, 1, 1, 1, 1, 1, 1, 1, 1, 1, 1, 1, 1, 1, 1, 1, 1, 1, 1, 1, 1, 1, 1, 1, 1, 1, 1, 1, 1, 1, 1, 1, 1, 1, 1, 1, 1, 1, 1, 1, 1, 1, 1, 1, 1, 1, 1, 1, 1, 1, 1, 1, 1, 1, 1, 1, 1, 1, 1, 1, 1, 1, 1, 1, 1, 1, 1, 1, 1, 1, 1, 1, 1, 1, 1, 1, 1, 1, 1, 1, 1, 1, 1, 1, 1, 1, 1, 1, 1, 1, 1, 1, 1, 1, 1, 1, 1, 1, 1, 1, 1, 1, 1, 1, 1, 1, 1, 1, 1, 1, 1, 1, 1, 1, 1, 1, 1, None]\n"
          ]
        }
      ],
      "metadata": {
        "id": "gRQPZUQPYBVN",
        "outputId": "94e9a2d8-fc4e-472f-9ddb-61be9641e38d"
      }
    },
    {
      "cell_type": "markdown",
      "source": [
        " `None`对应了special tokens，然后0或者1分表代表第1个文本和第2个文本，由于我们qeustin第1个传入，context第2个传入，所以分别对应question和context。最终我们可以找到标注的答案在预处理之后的features里的位置:"
      ],
      "metadata": {
        "id": "jCtYEPCsYBVO"
      }
    },
    {
      "cell_type": "code",
      "execution_count": null,
      "source": [
        "answers = example[\"answers\"]\n",
        "start_char = answers[\"answer_start\"][0]\n",
        "end_char = start_char + len(answers[\"text\"][0])\n",
        "\n",
        "# 找到当前文本的Start token index.\n",
        "token_start_index = 0\n",
        "while sequence_ids[token_start_index] != 1:\n",
        "    token_start_index += 1\n",
        "\n",
        "# 找到当前文本的End token idnex.\n",
        "token_end_index = len(tokenized_example[\"input_ids\"][0]) - 1\n",
        "while sequence_ids[token_end_index] != 1:\n",
        "    token_end_index -= 1\n",
        "\n",
        "# 检测答案是否在文本区间的外部，这种情况下意味着该样本的数据标注在CLS token位置。\n",
        "offsets = tokenized_example[\"offset_mapping\"][0]\n",
        "if (offsets[token_start_index][0] <= start_char and offsets[token_end_index][1] >= end_char):\n",
        "    # 将token_start_index和token_end_index移动到answer所在位置的两侧.\n",
        "    # 注意：答案在最末尾的边界条件.\n",
        "    while token_start_index < len(offsets) and offsets[token_start_index][0] <= start_char:\n",
        "        token_start_index += 1\n",
        "    start_position = token_start_index - 1\n",
        "    while offsets[token_end_index][1] >= end_char:\n",
        "        token_end_index -= 1\n",
        "    end_position = token_end_index + 1\n",
        "    print(\"start_position: {}, end_position: {}\".format(start_position, end_position))\n",
        "else:\n",
        "    print(\"The answer is not in this feature.\")"
      ],
      "outputs": [
        {
          "output_type": "stream",
          "name": "stdout",
          "text": [
            "start_position: 23, end_position: 26\n"
          ]
        }
      ],
      "metadata": {
        "id": "ZK2Modc7YBVO",
        "outputId": "ad67bfcb-ad7f-4df1-9696-eda61d49e499"
      }
    },
    {
      "cell_type": "markdown",
      "source": [
        "我们需要对答案的位置进行验证，验证方式是：使用答案所在位置下标，取到对应的token ID，然后转化为文本，然后和原始答案进行但对比。"
      ],
      "metadata": {
        "id": "d5H2Rv7PYBVP"
      }
    },
    {
      "cell_type": "code",
      "execution_count": null,
      "source": [
        "print(tokenizer.decode(tokenized_example[\"input_ids\"][0][start_position: end_position+1]))\n",
        "print(answers[\"text\"][0])"
      ],
      "outputs": [
        {
          "output_type": "stream",
          "name": "stdout",
          "text": [
            "over 1, 600\n",
            "over 1,600\n"
          ]
        }
      ],
      "metadata": {
        "id": "mdmegUoSYBVP",
        "outputId": "b5979cb1-9fbb-4863-cccc-ad0c5d5ce760"
      }
    },
    {
      "cell_type": "markdown",
      "source": [
        "有时候question拼接context，而有时候是context拼接question，不同的模型有不同的要求，因此我们需要使用`padding_side`参数来指定。"
      ],
      "metadata": {
        "id": "9HKReju5YBVQ"
      }
    },
    {
      "cell_type": "code",
      "execution_count": null,
      "source": [
        "pad_on_right = tokenizer.padding_side == \"right\" #context在右边"
      ],
      "outputs": [],
      "metadata": {
        "id": "DryiuiaMYBVQ"
      }
    },
    {
      "cell_type": "markdown",
      "source": [
        "现在，把所有步骤合并到一起。对于context中无答案的情况，我们直接将标注的答案起始位置和结束位置放置在CLS的下标处。如果`allow_impossible_answers`这个参数是`False`的化，那这些无答案的样本都会被扔掉。为了简洁起见，我们先扔掉把。\n"
      ],
      "metadata": {
        "id": "1BDIIhJmYBVR"
      }
    },
    {
      "cell_type": "code",
      "execution_count": null,
      "source": [
        "def prepare_train_features(examples):\n",
        "    # 既要对examples进行truncation（截断）和padding（补全）还要还要保留所有信息，所以要用的切片的方法。\n",
        "    # 每一个一个超长文本example会被切片成多个输入，相邻两个输入之间会有交集。\n",
        "    tokenized_examples = tokenizer(\n",
        "        examples[\"question\" if pad_on_right else \"context\"],\n",
        "        examples[\"context\" if pad_on_right else \"question\"],\n",
        "        truncation=\"only_second\" if pad_on_right else \"only_first\",\n",
        "        max_length=max_length,\n",
        "        stride=doc_stride,\n",
        "        return_overflowing_tokens=True,\n",
        "        return_offsets_mapping=True,\n",
        "        padding=\"max_length\",\n",
        "    )\n",
        "\n",
        "    # 我们使用overflow_to_sample_mapping参数来映射切片片ID到原始ID。\n",
        "    # 比如有2个expamples被切成4片，那么对应是[0, 0, 1, 1]，前两片对应原来的第一个example。\n",
        "    sample_mapping = tokenized_examples.pop(\"overflow_to_sample_mapping\")\n",
        "    # offset_mapping也对应4片\n",
        "    # offset_mapping参数帮助我们映射到原始输入，由于答案标注在原始输入上，所以有助于我们找到答案的起始和结束位置。\n",
        "    offset_mapping = tokenized_examples.pop(\"offset_mapping\")\n",
        "\n",
        "    # 重新标注数据\n",
        "    tokenized_examples[\"start_positions\"] = []\n",
        "    tokenized_examples[\"end_positions\"] = []\n",
        "\n",
        "    for i, offsets in enumerate(offset_mapping):\n",
        "        # 对每一片进行处理\n",
        "        # 将无答案的样本标注到CLS上\n",
        "        input_ids = tokenized_examples[\"input_ids\"][i]\n",
        "        cls_index = input_ids.index(tokenizer.cls_token_id)\n",
        "\n",
        "        # 区分question和context\n",
        "        sequence_ids = tokenized_examples.sequence_ids(i)\n",
        "\n",
        "        # 拿到原始的example 下标.\n",
        "        sample_index = sample_mapping[i]\n",
        "        answers = examples[\"answers\"][sample_index]\n",
        "        # 如果没有答案，则使用CLS所在的位置为答案.\n",
        "        if len(answers[\"answer_start\"]) == 0:\n",
        "            tokenized_examples[\"start_positions\"].append(cls_index)\n",
        "            tokenized_examples[\"end_positions\"].append(cls_index)\n",
        "        else:\n",
        "            # 答案的character级别Start/end位置.\n",
        "            start_char = answers[\"answer_start\"][0]\n",
        "            end_char = start_char + len(answers[\"text\"][0])\n",
        "\n",
        "            # 找到token级别的index start.\n",
        "            token_start_index = 0\n",
        "            while sequence_ids[token_start_index] != (1 if pad_on_right else 0):\n",
        "                token_start_index += 1\n",
        "\n",
        "            # 找到token级别的index end.\n",
        "            token_end_index = len(input_ids) - 1\n",
        "            while sequence_ids[token_end_index] != (1 if pad_on_right else 0):\n",
        "                token_end_index -= 1\n",
        "\n",
        "            # 检测答案是否超出文本长度，超出的话也适用CLS index作为标注.\n",
        "            if not (offsets[token_start_index][0] <= start_char and offsets[token_end_index][1] >= end_char):\n",
        "                tokenized_examples[\"start_positions\"].append(cls_index)\n",
        "                tokenized_examples[\"end_positions\"].append(cls_index)\n",
        "            else:\n",
        "                # 如果不超出则找到答案token的start和end位置。.\n",
        "                # Note: we could go after the last offset if the answer is the last word (edge case).\n",
        "                while token_start_index < len(offsets) and offsets[token_start_index][0] <= start_char:\n",
        "                    token_start_index += 1\n",
        "                tokenized_examples[\"start_positions\"].append(token_start_index - 1)\n",
        "                while offsets[token_end_index][1] >= end_char:\n",
        "                    token_end_index -= 1\n",
        "                tokenized_examples[\"end_positions\"].append(token_end_index + 1)\n",
        "\n",
        "    return tokenized_examples"
      ],
      "outputs": [],
      "metadata": {
        "id": "mObBCXnrYBVR"
      }
    },
    {
      "cell_type": "markdown",
      "source": [
        "以上的预处理函数可以处理一个样本，也可以处理多个样本exapmles。如果是处理多个样本，则返回的是多个样本被预处理之后的结果list。"
      ],
      "metadata": {
        "id": "0lm8ozrJIrJR"
      }
    },
    {
      "cell_type": "code",
      "execution_count": null,
      "source": [
        "features = prepare_train_features(datasets['train'][:5])\n",
        "# 处理5个样本"
      ],
      "outputs": [],
      "metadata": {
        "id": "-b70jh26IrJS"
      }
    },
    {
      "cell_type": "markdown",
      "source": [
        "接下来对数据集datasets里面的所有样本进行预处理，处理的方式是使用`map`函数，将预处理函数`prepare_train_features`应用到（map)所有样本上。"
      ],
      "metadata": {
        "id": "zS-6iXTkIrJT"
      }
    },
    {
      "cell_type": "code",
      "execution_count": null,
      "source": [
        "tokenized_datasets = datasets.map(prepare_train_features, batched=True, remove_columns=datasets[\"train\"].column_names)"
      ],
      "outputs": [],
      "metadata": {
        "id": "DDtsaJeVIrJT"
      }
    },
    {
      "cell_type": "markdown",
      "source": [
        "更好的是，返回的结果会自动被缓存，避免下次处理的时候重新计算（但是也要注意，如果输入有改动，可能会被缓存影响！）。datasets库函数会对输入的参数进行检测，判断是否有变化，如果没有变化就使用缓存数据，如果有变化就重新处理。但如果输入参数不变，想改变输入的时候，最好清理调这个缓存。清理的方式是使用`load_from_cache_file=False`参数。另外，上面使用到的`batched=True`这个参数是tokenizer的特点，以为这会使用多线程同时并行对输入进行处理。"
      ],
      "metadata": {
        "id": "voWiw8C7IrJV"
      }
    },
    {
      "cell_type": "markdown",
      "source": [
        "## Fine-tuning微调模型"
      ],
      "metadata": {
        "id": "545PP3o8IrJV"
      }
    },
    {
      "cell_type": "markdown",
      "source": [
        "目前，我们已经预处理好了训练/微调需要的数据，现在我们下载预训练的模型。由于我们要做的是机器问答任务，于是我们使用这个类`AutoModelForQuestionAnswering`。和tokenizer相似，model也是使用`from_pretrained`方法进行加载。\n"
      ],
      "metadata": {
        "id": "FBiW8UpKIrJW"
      }
    },
    {
      "cell_type": "code",
      "execution_count": null,
      "source": [
        "from transformers import AutoModelForQuestionAnswering, TrainingArguments, Trainer\r\n",
        "\r\n",
        "model = AutoModelForQuestionAnswering.from_pretrained(model_checkpoint)"
      ],
      "outputs": [
        {
          "output_type": "stream",
          "name": "stderr",
          "text": [
            "Downloading: 100%|██████████| 268M/268M [00:46<00:00, 5.79MB/s]\n",
            "Some weights of the model checkpoint at distilbert-base-uncased were not used when initializing DistilBertForQuestionAnswering: ['vocab_transform.weight', 'vocab_transform.bias', 'vocab_layer_norm.weight', 'vocab_layer_norm.bias', 'vocab_projector.weight', 'vocab_projector.bias']\n",
            "- This IS expected if you are initializing DistilBertForQuestionAnswering from the checkpoint of a model trained on another task or with another architecture (e.g. initializing a BertForSequenceClassification model from a BertForPreTraining model).\n",
            "- This IS NOT expected if you are initializing DistilBertForQuestionAnswering from the checkpoint of a model that you expect to be exactly identical (initializing a BertForSequenceClassification model from a BertForSequenceClassification model).\n",
            "Some weights of DistilBertForQuestionAnswering were not initialized from the model checkpoint at distilbert-base-uncased and are newly initialized: ['qa_outputs.weight', 'qa_outputs.bias']\n",
            "You should probably TRAIN this model on a down-stream task to be able to use it for predictions and inference.\n"
          ]
        }
      ],
      "metadata": {
        "id": "TlqNaB8jIrJW",
        "outputId": "84916cf3-6e6c-47f3-d081-032ec30a4132"
      }
    },
    {
      "cell_type": "markdown",
      "source": [
        "由于我们微调的任务是机器问答任务，而我们加载的是预训练的语言模型，那么上面会提示我们加载模型的时候扔掉了一些不匹配的神经网络参数（预训练语言模型的神经网络head被扔掉了，同时随机初始化了机器问答的神经网络head）。\n",
        "\n",
        "正因为有这些随机初始化的参数，所以我们要在新的数据集上重新fine-tune我们的模型。"
      ],
      "metadata": {
        "id": "CczA5lJlIrJX"
      }
    },
    {
      "cell_type": "markdown",
      "source": [
        "为了能够得到一个`Trainer`训练工具，我们还需要3个要素，其中最重要的是训练的设定/参数[`TrainingArguments`](https://huggingface.co/transformers/main_classes/trainer.html#transformers.TrainingArguments)。这个训练设定包含了能够定义训练过程的所有属性。同时它需要一个文件夹的名字。这个文件夹会被用来保存模型和其他模型配置。"
      ],
      "metadata": {
        "id": "_N8urzhyIrJY"
      }
    },
    {
      "cell_type": "code",
      "execution_count": null,
      "source": [
        "args = TrainingArguments(\r\n",
        "    f\"test-squad\",\r\n",
        "    evaluation_strategy = \"epoch\",\r\n",
        "    learning_rate=2e-5, #学习率\r\n",
        "    per_device_train_batch_size=batch_size,\r\n",
        "    per_device_eval_batch_size=batch_size,\r\n",
        "    num_train_epochs=3, # 训练的论次\r\n",
        "    weight_decay=0.01,\r\n",
        ")"
      ],
      "outputs": [],
      "metadata": {
        "id": "Bliy8zgjIrJY"
      }
    },
    {
      "cell_type": "markdown",
      "source": [
        "上面`evaluation_strategy = \"epoch\"`参数告诉训练代码：我们每个epcoh会做一次验证评估。\n",
        "\n",
        "上面`batch_size`在这个notebook之前定义好了。"
      ],
      "metadata": {
        "id": "km3pGVdTIrJc"
      }
    },
    {
      "cell_type": "markdown",
      "source": [
        "我们使用一个default_data_collator将预处理好的数据喂给模型。"
      ],
      "metadata": {
        "id": "9G0oFbpTYBVX"
      }
    },
    {
      "cell_type": "code",
      "execution_count": null,
      "source": [
        "from transformers import default_data_collator\r\n",
        "\r\n",
        "data_collator = default_data_collator"
      ],
      "outputs": [],
      "metadata": {
        "id": "4nTsgJKRYBVX"
      }
    },
    {
      "cell_type": "markdown",
      "source": [
        "训练的时候，我们将只会计算loss。根据评测指标评估模型将会放在下一节。\n",
        "\n",
        "只需要把模型，训练参数，数据，之前使用的tokenizer，和数据投递工具default_data_collator传入Tranier即可。"
      ],
      "metadata": {
        "id": "rXuFTAzDIrJe"
      }
    },
    {
      "cell_type": "code",
      "execution_count": null,
      "source": [
        "trainer = Trainer(\r\n",
        "    model,\r\n",
        "    args,\r\n",
        "    train_dataset=tokenized_datasets[\"train\"],\r\n",
        "    eval_dataset=tokenized_datasets[\"validation\"],\r\n",
        "    data_collator=data_collator,\r\n",
        "    tokenizer=tokenizer,\r\n",
        ")"
      ],
      "outputs": [],
      "metadata": {
        "id": "imY1oC3SIrJf"
      }
    },
    {
      "cell_type": "markdown",
      "source": [
        "调用`train`方法开始训练"
      ],
      "metadata": {
        "id": "CdzABDVcIrJg"
      }
    },
    {
      "cell_type": "code",
      "execution_count": null,
      "source": [
        "trainer.train()"
      ],
      "outputs": [],
      "metadata": {
        "id": "fWZRjmU6r-RP"
      }
    },
    {
      "cell_type": "markdown",
      "source": [
        "由于训练时间很长，如果是在本地mac训练，每个epcoh大约需要2消失，所以每次训练完保存以下模型。"
      ],
      "metadata": {
        "id": "d_G79pAyYBVY"
      }
    },
    {
      "cell_type": "code",
      "execution_count": null,
      "source": [
        "trainer.save_model(\"test-squad-trained\")"
      ],
      "outputs": [],
      "metadata": {
        "id": "qYP7NNo3YBVZ"
      }
    },
    {
      "cell_type": "markdown",
      "source": [
        "## Evaluation评估"
      ],
      "metadata": {
        "id": "RwFvugZTYBVZ"
      }
    },
    {
      "cell_type": "markdown",
      "source": [
        "模型评估会稍微优点复杂，我们需要将模型的输出后处理成我们需要的文本格式。模型本身预测的是answer所在start/end位置的logits。如果我们评估时喂入模型的是一个batch，那么输出如下："
      ],
      "metadata": {
        "id": "3fcMB_uGYBVZ"
      }
    },
    {
      "cell_type": "code",
      "execution_count": null,
      "source": [
        "import torch\r\n",
        "\r\n",
        "for batch in trainer.get_eval_dataloader():\r\n",
        "    break\r\n",
        "batch = {k: v.to(trainer.args.device) for k, v in batch.items()}\r\n",
        "with torch.no_grad():\r\n",
        "    output = trainer.model(**batch)\r\n",
        "output.keys()"
      ],
      "outputs": [],
      "metadata": {
        "id": "XzkOFb3uYBVZ"
      }
    },
    {
      "cell_type": "markdown",
      "source": [
        "模型的输出是一个像dict的数据结构，包含了loss（因为提供了label，所有有loss），answer start和end的logits。我们在输出预测结果的时候不需要看loss，直接看logits就好了。"
      ],
      "metadata": {
        "id": "G4McnKTSYBVa"
      }
    },
    {
      "cell_type": "code",
      "execution_count": null,
      "source": [
        "output.start_logits.shape, output.end_logits.shape"
      ],
      "outputs": [
        {
          "output_type": "execute_result",
          "data": {
            "text/plain": [
              "(torch.Size([16, 384]), torch.Size([16, 384]))"
            ]
          },
          "metadata": {
            "tags": []
          },
          "execution_count": 35
        }
      ],
      "metadata": {
        "id": "yNYbBFcvYBVa",
        "outputId": "7f752049-0965-4484-96b2-d2326c6f5dcf"
      }
    },
    {
      "cell_type": "markdown",
      "source": [
        "每个feature里的每个token都会有一个logit。预测answer最简单的方法就是选择start的logits里最大的下标最为answer其实位置，end的logits里最大下标作为answer的结束位置。"
      ],
      "metadata": {
        "id": "2qQ4y1cwYBVa"
      }
    },
    {
      "cell_type": "code",
      "execution_count": null,
      "source": [
        "output.start_logits.argmax(dim=-1), output.end_logits.argmax(dim=-1)"
      ],
      "outputs": [
        {
          "output_type": "execute_result",
          "data": {
            "text/plain": [
              "(tensor([ 46,  57,  78,  43, 118,  15,  72,  35,  15,  34,  73,  41,  80,  91,\n",
              "         156,  35], device='cuda:0'),\n",
              " tensor([ 47,  58,  81,  55, 118, 110,  75,  37, 110,  36,  76,  53,  83,  94,\n",
              "         158,  35], device='cuda:0'))"
            ]
          },
          "metadata": {
            "tags": []
          },
          "execution_count": 36
        }
      ],
      "metadata": {
        "id": "sTZn5YtxYBVb",
        "outputId": "8818a3c5-1eda-4926-9d37-af2a0124b59f"
      }
    },
    {
      "cell_type": "markdown",
      "source": [
        "以上策略大部分情况下都是不错的。但是，如果我们的输入告诉我们找不到答案：比如start的位置比end的位置下标大，或者start和end的位置指向了question。\n",
        "\n",
        "这个时候，简单的方法是我们继续需要选择第2好的预测作为我们的答案了，实在不行看第3好的预测，以此类推。\n",
        "\n",
        "由于上面的方法不太容易找到可行的答案，我们需要思考更合理的方法。我们将start和end的logits相加得到新的打分，然后去看最好的`n_best_size`个start和end对。从`n_best_size`个start和end对里推出相应的答案，然后检查答案是否有效，最后将他们按照打分进行怕苦，选择得分最高的作为答案。"
      ],
      "metadata": {
        "id": "po1DsUQdYBVb"
      }
    },
    {
      "cell_type": "code",
      "execution_count": null,
      "source": [
        "n_best_size = 20"
      ],
      "outputs": [],
      "metadata": {
        "id": "ZBWVTvBTYBVb"
      }
    },
    {
      "cell_type": "code",
      "execution_count": null,
      "source": [
        "import numpy as np\r\n",
        "\r\n",
        "start_logits = output.start_logits[0].cpu().numpy()\r\n",
        "end_logits = output.end_logits[0].cpu().numpy()\r\n",
        "# 收集最佳的start和end logits的位置:\r\n",
        "start_indexes = np.argsort(start_logits)[-1 : -n_best_size - 1 : -1].tolist()\r\n",
        "end_indexes = np.argsort(end_logits)[-1 : -n_best_size - 1 : -1].tolist()\r\n",
        "valid_answers = []\r\n",
        "for start_index in start_indexes:\r\n",
        "    for end_index in end_indexes:\r\n",
        "        if start_index <= end_index: # 如果start小雨end，那么合理的\r\n",
        "            valid_answers.append(\r\n",
        "                {\r\n",
        "                    \"score\": start_logits[start_index] + end_logits[end_index],\r\n",
        "                    \"text\": \"\" # 后续需要根据token的下标将答案找出来\r\n",
        "                }\r\n",
        "            )"
      ],
      "outputs": [],
      "metadata": {
        "id": "h9BOWPEoYBVb"
      }
    },
    {
      "cell_type": "markdown",
      "source": [
        "随后我们对根据`score`对`valid_answers`进行排序，找到最好的那一个。最后还剩一步是：检查start和end位置对应的文本是否在context里面而不是在question里面。\n",
        "\n",
        "为了完成这件事情，我们需要添加以下两个信息到validation的features里面：\n",
        "- 产生feature的example的ID。由于每个example可能会产生多个feature，所以每个feature/切片的feature需要知道他们对应的example。\n",
        "- offset mapping： 将每个切片的tokens的位置映射会原始文本基于character的下标位置。\n",
        "\n",
        "所以我们又重新处理了以下validation验证集。和处理训练的时候的`prepare_train_features`稍有不同。\n"
      ],
      "metadata": {
        "id": "Be7maAWsYBVc"
      }
    },
    {
      "cell_type": "code",
      "execution_count": null,
      "source": [
        "\r\n",
        "def prepare_validation_features(examples):\r\n",
        "    # Tokenize our examples with truncation and maybe padding, but keep the overflows using a stride. This results\r\n",
        "    # in one example possible giving several features when a context is long, each of those features having a\r\n",
        "    # context that overlaps a bit the context of the previous feature.\r\n",
        "    tokenized_examples = tokenizer(\r\n",
        "        examples[\"question\" if pad_on_right else \"context\"],\r\n",
        "        examples[\"context\" if pad_on_right else \"question\"],\r\n",
        "        truncation=\"only_second\" if pad_on_right else \"only_first\",\r\n",
        "        max_length=max_length,\r\n",
        "        stride=doc_stride,\r\n",
        "        return_overflowing_tokens=True,\r\n",
        "        return_offsets_mapping=True,\r\n",
        "        padding=\"max_length\",\r\n",
        "    )\r\n",
        "\r\n",
        "    # Since one example might give us several features if it has a long context, we need a map from a feature to\r\n",
        "    # its corresponding example. This key gives us just that.\r\n",
        "    sample_mapping = tokenized_examples.pop(\"overflow_to_sample_mapping\")\r\n",
        "\r\n",
        "    # We keep the example_id that gave us this feature and we will store the offset mappings.\r\n",
        "    tokenized_examples[\"example_id\"] = []\r\n",
        "\r\n",
        "    for i in range(len(tokenized_examples[\"input_ids\"])):\r\n",
        "        # Grab the sequence corresponding to that example (to know what is the context and what is the question).\r\n",
        "        sequence_ids = tokenized_examples.sequence_ids(i)\r\n",
        "        context_index = 1 if pad_on_right else 0\r\n",
        "\r\n",
        "        # One example can give several spans, this is the index of the example containing this span of text.\r\n",
        "        sample_index = sample_mapping[i]\r\n",
        "        tokenized_examples[\"example_id\"].append(examples[\"id\"][sample_index])\r\n",
        "\r\n",
        "        # Set to None the offset_mapping that are not part of the context so it's easy to determine if a token\r\n",
        "        # position is part of the context or not.\r\n",
        "        tokenized_examples[\"offset_mapping\"][i] = [\r\n",
        "            (o if sequence_ids[k] == context_index else None)\r\n",
        "            for k, o in enumerate(tokenized_examples[\"offset_mapping\"][i])\r\n",
        "        ]\r\n",
        "\r\n",
        "    return tokenized_examples"
      ],
      "outputs": [],
      "metadata": {
        "id": "AJpleD_oYBVc"
      }
    },
    {
      "cell_type": "markdown",
      "source": [
        "和之前一样将`prepare_validation_features`函数应用到每个验证集合的样本上。"
      ],
      "metadata": {
        "id": "rmaTICcJYBVd"
      }
    },
    {
      "cell_type": "code",
      "execution_count": null,
      "source": [
        "validation_features = datasets[\"validation\"].map(\r\n",
        "    prepare_validation_features,\r\n",
        "    batched=True,\r\n",
        "    remove_columns=datasets[\"validation\"].column_names\r\n",
        ")"
      ],
      "outputs": [
        {
          "output_type": "display_data",
          "data": {
            "text/plain": [
              "HBox(children=(FloatProgress(value=0.0, max=11.0), HTML(value='')))"
            ],
            "application/vnd.jupyter.widget-view+json": {
              "model_id": "32ba04d6240149f49eb48c8d8b7f9aae",
              "version_major": 2,
              "version_minor": 0
            }
          },
          "metadata": {
            "tags": []
          }
        },
        {
          "output_type": "stream",
          "name": "stdout",
          "text": [
            "\n"
          ]
        }
      ],
      "metadata": {
        "colab": {
          "referenced_widgets": [
            "32ba04d6240149f49eb48c8d8b7f9aae"
          ]
        },
        "id": "xDfua4clYBVd",
        "outputId": "4789e3b2-52f0-4ca0-9d01-8c2b8e10a167"
      }
    },
    {
      "cell_type": "markdown",
      "source": [
        "使用`Trainer.predict`方法获得所有预测结果"
      ],
      "metadata": {
        "id": "dNECLWJLYBVe"
      }
    },
    {
      "cell_type": "code",
      "execution_count": null,
      "source": [
        "raw_predictions = trainer.predict(validation_features)"
      ],
      "outputs": [],
      "metadata": {
        "id": "HTbFJ3FhYBVe"
      }
    },
    {
      "cell_type": "markdown",
      "source": [
        "这个 `Trainer` *隐藏了* 一些模型训练时候没有使用的属性(这里是 `example_id`和`offset_mapping`，后处理的时候会用到),所以我们需要把这些设置回来:"
      ],
      "metadata": {
        "id": "QlTxqJN3YBVe"
      }
    },
    {
      "cell_type": "code",
      "execution_count": null,
      "source": [
        "validation_features.set_format(type=validation_features.format[\"type\"], columns=list(validation_features.features.keys()))"
      ],
      "outputs": [],
      "metadata": {
        "id": "nyQsRyqGYBVe"
      }
    },
    {
      "cell_type": "markdown",
      "source": [
        "当一个token位置对应着question部分时候，`prepare_validation_features`函数将offset mappings设定为`None`，所以我们根据offset mapping很容易可以鉴定token是否在context里面啦。我们同样也根绝扔掉了特别长的答案。"
      ],
      "metadata": {
        "id": "Ac0BahcRYBVf"
      }
    },
    {
      "cell_type": "code",
      "execution_count": null,
      "source": [
        "max_answer_length = 30"
      ],
      "outputs": [],
      "metadata": {
        "id": "dcqAk9GgYBVf"
      }
    },
    {
      "cell_type": "code",
      "execution_count": null,
      "source": [
        "start_logits = output.start_logits[0].cpu().numpy()\r\n",
        "end_logits = output.end_logits[0].cpu().numpy()\r\n",
        "offset_mapping = validation_features[0][\"offset_mapping\"]\r\n",
        "# The first feature comes from the first example. For the more general case, we will need to be match the example_id to\r\n",
        "# an example index\r\n",
        "context = datasets[\"validation\"][0][\"context\"]\r\n",
        "\r\n",
        "# Gather the indices the best start/end logits:\r\n",
        "start_indexes = np.argsort(start_logits)[-1 : -n_best_size - 1 : -1].tolist()\r\n",
        "end_indexes = np.argsort(end_logits)[-1 : -n_best_size - 1 : -1].tolist()\r\n",
        "valid_answers = []\r\n",
        "for start_index in start_indexes:\r\n",
        "    for end_index in end_indexes:\r\n",
        "        # Don't consider out-of-scope answers, either because the indices are out of bounds or correspond\r\n",
        "        # to part of the input_ids that are not in the context.\r\n",
        "        if (\r\n",
        "            start_index >= len(offset_mapping)\r\n",
        "            or end_index >= len(offset_mapping)\r\n",
        "            or offset_mapping[start_index] is None\r\n",
        "            or offset_mapping[end_index] is None\r\n",
        "        ):\r\n",
        "            continue\r\n",
        "        # Don't consider answers with a length that is either < 0 or > max_answer_length.\r\n",
        "        if end_index < start_index or end_index - start_index + 1 > max_answer_length:\r\n",
        "            continue\r\n",
        "        if start_index <= end_index: # We need to refine that test to check the answer is inside the context\r\n",
        "            start_char = offset_mapping[start_index][0]\r\n",
        "            end_char = offset_mapping[end_index][1]\r\n",
        "            valid_answers.append(\r\n",
        "                {\r\n",
        "                    \"score\": start_logits[start_index] + end_logits[end_index],\r\n",
        "                    \"text\": context[start_char: end_char]\r\n",
        "                }\r\n",
        "            )\r\n",
        "\r\n",
        "valid_answers = sorted(valid_answers, key=lambda x: x[\"score\"], reverse=True)[:n_best_size]\r\n",
        "valid_answers"
      ],
      "outputs": [
        {
          "output_type": "execute_result",
          "data": {
            "text/plain": [
              "[{'score': 16.706663, 'text': 'Denver Broncos'},\n",
              " {'score': 14.635585,\n",
              "  'text': 'Denver Broncos defeated the National Football Conference (NFC) champion Carolina Panthers'},\n",
              " {'score': 13.234194, 'text': 'Carolina Panthers'},\n",
              " {'score': 12.468662, 'text': 'Broncos'},\n",
              " {'score': 11.709289, 'text': 'Denver'},\n",
              " {'score': 10.397583,\n",
              "  'text': 'Broncos defeated the National Football Conference (NFC) champion Carolina Panthers'},\n",
              " {'score': 10.104669,\n",
              "  'text': 'American Football Conference (AFC) champion Denver Broncos'},\n",
              " {'score': 9.721636,\n",
              "  'text': 'The American Football Conference (AFC) champion Denver Broncos'},\n",
              " {'score': 9.007437,\n",
              "  'text': 'Denver Broncos defeated the National Football Conference (NFC) champion Carolina Panthers 24–10'},\n",
              " {'score': 8.834958,\n",
              "  'text': 'Denver Broncos defeated the National Football Conference (NFC) champion Carolina'},\n",
              " {'score': 8.38701,\n",
              "  'text': 'Denver Broncos defeated the National Football Conference (NFC)'},\n",
              " {'score': 8.143825,\n",
              "  'text': 'Denver Broncos defeated the National Football Conference (NFC) champion Carolina Panthers 24–10 to earn their third Super Bowl title.'},\n",
              " {'score': 8.03359,\n",
              "  'text': 'American Football Conference (AFC) champion Denver Broncos defeated the National Football Conference (NFC) champion Carolina Panthers'},\n",
              " {'score': 7.832466,\n",
              "  'text': 'Denver Broncos defeated the National Football Conference (NFC'},\n",
              " {'score': 7.650557,\n",
              "  'text': 'The American Football Conference (AFC) champion Denver Broncos defeated the National Football Conference (NFC) champion Carolina Panthers'},\n",
              " {'score': 7.6060467, 'text': 'Carolina Panthers 24–10'},\n",
              " {'score': 7.5795317,\n",
              "  'text': 'Denver Broncos defeated the National Football Conference'},\n",
              " {'score': 7.433568, 'text': 'Carolina'},\n",
              " {'score': 6.742434,\n",
              "  'text': 'Carolina Panthers 24–10 to earn their third Super Bowl title.'},\n",
              " {'score': 6.71136,\n",
              "  'text': 'Denver Broncos defeated the National Football Conference (NFC) champion Carolina Panthers 24'}]"
            ]
          },
          "metadata": {
            "tags": []
          },
          "execution_count": 44
        }
      ],
      "metadata": {
        "id": "5wBRLoJoYBVf",
        "outputId": "6e889849-7d40-4003-8d8d-546b8c6eb6a1"
      }
    },
    {
      "cell_type": "code",
      "execution_count": null,
      "source": [
        "将预测答案和真实答案进行比较即可:"
      ],
      "outputs": [],
      "metadata": {
        "id": "nLHf5tsBYBVg"
      }
    },
    {
      "cell_type": "code",
      "execution_count": null,
      "source": [
        "datasets[\"validation\"][0][\"answers\"]"
      ],
      "outputs": [
        {
          "output_type": "execute_result",
          "data": {
            "text/plain": [
              "{'answer_start': [177, 177, 177],\n",
              " 'text': ['Denver Broncos', 'Denver Broncos', 'Denver Broncos']}"
            ]
          },
          "metadata": {
            "tags": []
          },
          "execution_count": 45
        }
      ],
      "metadata": {
        "id": "MPqG0pyiYBVg",
        "outputId": "fa1a7b51-09fb-4ce4-e858-456205dbdb31"
      }
    },
    {
      "cell_type": "markdown",
      "source": [
        "可以看到模型做对了！\n",
        "\n",
        "如同上面的例子所言，由于第1个feature一定是来自于第1个example，所以相对容易。对于其他的fearures来说，我们需要一个features和examples的一个映射map。同样，由于一个example可能被切片成多个features，所以我们也需要将所有features里的答案全部手机起来。以下的代码就将exmaple的下标和features的下标进行map映射。"
      ],
      "metadata": {
        "id": "-Vl2BpcVYBVh"
      }
    },
    {
      "cell_type": "code",
      "execution_count": null,
      "source": [
        "import collections\r\n",
        "\r\n",
        "examples = datasets[\"validation\"]\r\n",
        "features = validation_features\r\n",
        "\r\n",
        "example_id_to_index = {k: i for i, k in enumerate(examples[\"id\"])}\r\n",
        "features_per_example = collections.defaultdict(list)\r\n",
        "for i, feature in enumerate(features):\r\n",
        "    features_per_example[example_id_to_index[feature[\"example_id\"]]].append(i)"
      ],
      "outputs": [],
      "metadata": {
        "id": "VgOFWhElYBVh"
      }
    },
    {
      "cell_type": "markdown",
      "source": [
        "对于后处理过程基本上已经全部完成了。最后一点事情是如何解决无答案的情况（squad_v2=True的时候）。以上的代码都只考虑了context里面的asnwers，所以我们同样需要将无答案的预测得分进行搜集（无答案的预测对应的CLSt oken的start和end）。如果一个example样本又多个features，那么我们还需要在多个features里预测是不是都无答案。所以无答案的最终得分是所有features的无答案得分最小的那个。\n",
        "\n",
        "只要无答案的最终得分高于其他所有答案的得分，那么该问题就是无答案。\n",
        "\n",
        "把所有事情都合并起来："
      ],
      "metadata": {
        "id": "nXJ-THjzYBVh"
      }
    },
    {
      "cell_type": "code",
      "execution_count": null,
      "source": [
        "from tqdm.auto import tqdm\r\n",
        "\r\n",
        "def postprocess_qa_predictions(examples, features, raw_predictions, n_best_size = 20, max_answer_length = 30):\r\n",
        "    all_start_logits, all_end_logits = raw_predictions\r\n",
        "    # Build a map example to its corresponding features.\r\n",
        "    example_id_to_index = {k: i for i, k in enumerate(examples[\"id\"])}\r\n",
        "    features_per_example = collections.defaultdict(list)\r\n",
        "    for i, feature in enumerate(features):\r\n",
        "        features_per_example[example_id_to_index[feature[\"example_id\"]]].append(i)\r\n",
        "\r\n",
        "    # The dictionaries we have to fill.\r\n",
        "    predictions = collections.OrderedDict()\r\n",
        "\r\n",
        "    # Logging.\r\n",
        "    print(f\"Post-processing {len(examples)} example predictions split into {len(features)} features.\")\r\n",
        "\r\n",
        "    # Let's loop over all the examples!\r\n",
        "    for example_index, example in enumerate(tqdm(examples)):\r\n",
        "        # Those are the indices of the features associated to the current example.\r\n",
        "        feature_indices = features_per_example[example_index]\r\n",
        "\r\n",
        "        min_null_score = None # Only used if squad_v2 is True.\r\n",
        "        valid_answers = []\r\n",
        "        \r\n",
        "        context = example[\"context\"]\r\n",
        "        # Looping through all the features associated to the current example.\r\n",
        "        for feature_index in feature_indices:\r\n",
        "            # We grab the predictions of the model for this feature.\r\n",
        "            start_logits = all_start_logits[feature_index]\r\n",
        "            end_logits = all_end_logits[feature_index]\r\n",
        "            # This is what will allow us to map some the positions in our logits to span of texts in the original\r\n",
        "            # context.\r\n",
        "            offset_mapping = features[feature_index][\"offset_mapping\"]\r\n",
        "\r\n",
        "            # Update minimum null prediction.\r\n",
        "            cls_index = features[feature_index][\"input_ids\"].index(tokenizer.cls_token_id)\r\n",
        "            feature_null_score = start_logits[cls_index] + end_logits[cls_index]\r\n",
        "            if min_null_score is None or min_null_score < feature_null_score:\r\n",
        "                min_null_score = feature_null_score\r\n",
        "\r\n",
        "            # Go through all possibilities for the `n_best_size` greater start and end logits.\r\n",
        "            start_indexes = np.argsort(start_logits)[-1 : -n_best_size - 1 : -1].tolist()\r\n",
        "            end_indexes = np.argsort(end_logits)[-1 : -n_best_size - 1 : -1].tolist()\r\n",
        "            for start_index in start_indexes:\r\n",
        "                for end_index in end_indexes:\r\n",
        "                    # Don't consider out-of-scope answers, either because the indices are out of bounds or correspond\r\n",
        "                    # to part of the input_ids that are not in the context.\r\n",
        "                    if (\r\n",
        "                        start_index >= len(offset_mapping)\r\n",
        "                        or end_index >= len(offset_mapping)\r\n",
        "                        or offset_mapping[start_index] is None\r\n",
        "                        or offset_mapping[end_index] is None\r\n",
        "                    ):\r\n",
        "                        continue\r\n",
        "                    # Don't consider answers with a length that is either < 0 or > max_answer_length.\r\n",
        "                    if end_index < start_index or end_index - start_index + 1 > max_answer_length:\r\n",
        "                        continue\r\n",
        "\r\n",
        "                    start_char = offset_mapping[start_index][0]\r\n",
        "                    end_char = offset_mapping[end_index][1]\r\n",
        "                    valid_answers.append(\r\n",
        "                        {\r\n",
        "                            \"score\": start_logits[start_index] + end_logits[end_index],\r\n",
        "                            \"text\": context[start_char: end_char]\r\n",
        "                        }\r\n",
        "                    )\r\n",
        "        \r\n",
        "        if len(valid_answers) > 0:\r\n",
        "            best_answer = sorted(valid_answers, key=lambda x: x[\"score\"], reverse=True)[0]\r\n",
        "        else:\r\n",
        "            # In the very rare edge case we have not a single non-null prediction, we create a fake prediction to avoid\r\n",
        "            # failure.\r\n",
        "            best_answer = {\"text\": \"\", \"score\": 0.0}\r\n",
        "        \r\n",
        "        # Let's pick our final answer: the best one or the null answer (only for squad_v2)\r\n",
        "        if not squad_v2:\r\n",
        "            predictions[example[\"id\"]] = best_answer[\"text\"]\r\n",
        "        else:\r\n",
        "            answer = best_answer[\"text\"] if best_answer[\"score\"] > min_null_score else \"\"\r\n",
        "            predictions[example[\"id\"]] = answer\r\n",
        "\r\n",
        "    return predictions"
      ],
      "outputs": [],
      "metadata": {
        "id": "00SHF2PzYBVh"
      }
    },
    {
      "cell_type": "markdown",
      "source": [
        "将后处理函数应用到原始预测上："
      ],
      "metadata": {
        "id": "sfpxu9j3YBV-"
      }
    },
    {
      "cell_type": "code",
      "execution_count": null,
      "source": [
        "final_predictions = postprocess_qa_predictions(datasets[\"validation\"], validation_features, raw_predictions.predictions)"
      ],
      "outputs": [
        {
          "output_type": "stream",
          "name": "stdout",
          "text": [
            "Post-processing 10570 example predictions split into 10784 features.\n"
          ]
        },
        {
          "output_type": "display_data",
          "data": {
            "text/plain": [
              "HBox(children=(FloatProgress(value=0.0, max=10570.0), HTML(value='')))"
            ],
            "application/vnd.jupyter.widget-view+json": {
              "model_id": "347ebed36d3541388e4e821372e91aa4",
              "version_major": 2,
              "version_minor": 0
            }
          },
          "metadata": {
            "tags": []
          }
        },
        {
          "output_type": "stream",
          "name": "stdout",
          "text": [
            "\n"
          ]
        }
      ],
      "metadata": {
        "colab": {
          "referenced_widgets": [
            "347ebed36d3541388e4e821372e91aa4"
          ]
        },
        "id": "Df4vY9d1YBV_",
        "outputId": "026516bc-d0e4-439a-b77a-daf738f61aa1"
      }
    },
    {
      "cell_type": "markdown",
      "source": [
        "然后我们加载评测指标："
      ],
      "metadata": {
        "id": "AoRhXyiPYBV_"
      }
    },
    {
      "cell_type": "code",
      "execution_count": null,
      "source": [
        "metric = load_metric(\"squad_v2\" if squad_v2 else \"squad\")"
      ],
      "outputs": [],
      "metadata": {
        "id": "LYNJLOAbYBV_"
      }
    },
    {
      "cell_type": "markdown",
      "source": [
        "同理，也可以使用我们提供的本地脚本来加载："
      ],
      "metadata": {}
    },
    {
      "cell_type": "code",
      "execution_count": null,
      "source": [
        "metric_path = './dataset/metrics/squad.py'\r\n",
        "metric = load_metric(metric_path)"
      ],
      "outputs": [],
      "metadata": {}
    },
    {
      "cell_type": "markdown",
      "source": [
        "然后我们基于预测和标注对评测指标进行计算。为了合理的比较，我们需要将预测和标注的格式。对于squad2来说，评测指标还需要`no_answer_probability`参数（由于已经无答案直接设置成了空字符串，所以这里直接将这个参数设置为0.0）"
      ],
      "metadata": {
        "id": "HckepCtJYBWA"
      }
    },
    {
      "cell_type": "code",
      "execution_count": null,
      "source": [
        "if squad_v2:\r\n",
        "    formatted_predictions = [{\"id\": k, \"prediction_text\": v, \"no_answer_probability\": 0.0} for k, v in predictions.items()]\r\n",
        "else:\r\n",
        "    formatted_predictions = [{\"id\": k, \"prediction_text\": v} for k, v in final_predictions.items()]\r\n",
        "references = [{\"id\": ex[\"id\"], \"answers\": ex[\"answers\"]} for ex in datasets[\"validation\"]]\r\n",
        "metric.compute(predictions=formatted_predictions, references=references)"
      ],
      "outputs": [
        {
          "output_type": "execute_result",
          "data": {
            "text/plain": [
              "{'exact_match': 76.74550614947965, 'f1': 85.13412652023338}"
            ]
          },
          "metadata": {
            "tags": []
          },
          "execution_count": 50
        }
      ],
      "metadata": {
        "id": "k4y-LM_cYBWA",
        "outputId": "a122acf7-203c-4eb3-d26b-99b05b78a2df"
      }
    },
    {
      "cell_type": "markdown",
      "source": [
        "最后别忘了，[查看如何上传模型](https://huggingface.co/transformers/model_sharing.html) ，上传模型到[🤗 Model Hub](https://huggingface.co/models)。随后您就可以像这个notebook一开始一样，直接用名字就能使用您的模型啦。"
      ],
      "metadata": {
        "id": "exnxfrEKYBWA"
      }
    },
    {
      "cell_type": "code",
      "execution_count": null,
      "source": [],
      "outputs": [],
      "metadata": {
        "id": "uAYJ1DnfYBWA"
      }
    }
  ],
  "metadata": {
    "colab": {
      "name": "4.3-问答任务-抽取式问答",
      "provenance": []
    },
    "interpreter": {
      "hash": "3bfce0b4c492a35815b5705a19fe374a7eea0baaa08b34d90450caf1fe9ce20b"
    },
    "kernelspec": {
      "display_name": "Python 3.8.10 64-bit ('venv': virtualenv)",
      "name": "python3"
    },
    "language_info": {
      "name": "python",
      "version": ""
    },
    "metadata": {
      "interpreter": {
        "hash": "dea1d2a4b8017c12e0b65317b2730de6c54ea697ad6dca9df4eaf20de101624f"
      }
    },
    "widgets": {
      "application/vnd.jupyter.widget-state+json": {}
    }
  },
  "nbformat": 4,
  "nbformat_minor": 2
}